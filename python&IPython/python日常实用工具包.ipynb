{
 "cells": [
  {
   "cell_type": "markdown",
   "source": [
    "# 版本比较：distutils.version\n",
    "\n",
    "- 发布自定义python模块：https://my.oschina.net/dbloop/blog/661856\n",
    "    - 编写setup脚本，一般是setup.py文件\n",
    "    - 写自定义python模块\n",
    "    - 编译：python setup.py build\n",
    "    - 安装：python setup.py install\n",
    "\n"
   ],
   "metadata": {
    "collapsed": false
   }
  }
 ],
 "metadata": {
  "kernelspec": {
   "display_name": "Python 3",
   "language": "python",
   "name": "python3"
  },
  "language_info": {
   "codemirror_mode": {
    "name": "ipython",
    "version": 2
   },
   "file_extension": ".py",
   "mimetype": "text/x-python",
   "name": "python",
   "nbconvert_exporter": "python",
   "pygments_lexer": "ipython2",
   "version": "2.7.6"
  }
 },
 "nbformat": 4,
 "nbformat_minor": 0
}